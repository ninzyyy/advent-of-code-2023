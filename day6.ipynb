{
 "cells": [
  {
   "cell_type": "markdown",
   "metadata": {},
   "source": [
    "## Part One"
   ]
  },
  {
   "cell_type": "code",
   "execution_count": 1,
   "metadata": {},
   "outputs": [],
   "source": [
    "example = ['Time:      7  15   30',\n",
    "           'Distance:  9  40  200']"
   ]
  },
  {
   "cell_type": "code",
   "execution_count": 16,
   "metadata": {},
   "outputs": [
    {
     "data": {
      "text/plain": [
       "['7', '15', '30']"
      ]
     },
     "execution_count": 16,
     "metadata": {},
     "output_type": "execute_result"
    }
   ],
   "source": [
    "times = example[0].split()[1:]\n",
    "times"
   ]
  },
  {
   "cell_type": "code",
   "execution_count": 17,
   "metadata": {},
   "outputs": [
    {
     "data": {
      "text/plain": [
       "['9', '40', '200']"
      ]
     },
     "execution_count": 17,
     "metadata": {},
     "output_type": "execute_result"
    }
   ],
   "source": [
    "distances = example[1].split()[1:]\n",
    "distances"
   ]
  },
  {
   "cell_type": "code",
   "execution_count": 25,
   "metadata": {},
   "outputs": [],
   "source": [
    "def prod(iterable):\n",
    "    p = 1\n",
    "    for n in iterable:\n",
    "        p *= n\n",
    "    return p"
   ]
  },
  {
   "cell_type": "code",
   "execution_count": 26,
   "metadata": {},
   "outputs": [],
   "source": [
    "def boat_races(list):\n",
    "    times = list[0].split()[1:]\n",
    "    distances = list[1].split()[1:]\n",
    "    ways = []\n",
    "    for i in range(len(times)):\n",
    "        time = int(times[i])\n",
    "\n",
    "        n=0\n",
    "        for x in range(time+1):\n",
    "            if x*(time-x) > int(distances[i]):\n",
    "                n+=1\n",
    "        print(f'There are {n} ways to beat the record!')\n",
    "        ways.append(n)\n",
    "    return prod(ways)"
   ]
  },
  {
   "cell_type": "code",
   "execution_count": 27,
   "metadata": {},
   "outputs": [
    {
     "name": "stdout",
     "output_type": "stream",
     "text": [
      "There are 4 ways to beat the record!\n",
      "There are 8 ways to beat the record!\n",
      "There are 9 ways to beat the record!\n"
     ]
    },
    {
     "data": {
      "text/plain": [
       "288"
      ]
     },
     "execution_count": 27,
     "metadata": {},
     "output_type": "execute_result"
    }
   ],
   "source": [
    "boat_races(example)"
   ]
  },
  {
   "cell_type": "code",
   "execution_count": 28,
   "metadata": {},
   "outputs": [],
   "source": [
    "puzzle_input = ['Time:        54     70     82     75',\n",
    "                'Distance:   239   1142   1295   1253']"
   ]
  },
  {
   "cell_type": "code",
   "execution_count": 29,
   "metadata": {},
   "outputs": [
    {
     "name": "stdout",
     "output_type": "stream",
     "text": [
      "There are 45 ways to beat the record!\n",
      "There are 19 ways to beat the record!\n",
      "There are 39 ways to beat the record!\n",
      "There are 24 ways to beat the record!\n"
     ]
    },
    {
     "data": {
      "text/plain": [
       "800280"
      ]
     },
     "execution_count": 29,
     "metadata": {},
     "output_type": "execute_result"
    }
   ],
   "source": [
    "boat_races(puzzle_input)"
   ]
  },
  {
   "cell_type": "markdown",
   "metadata": {},
   "source": [
    "## Part Two"
   ]
  },
  {
   "cell_type": "code",
   "execution_count": 34,
   "metadata": {},
   "outputs": [],
   "source": [
    "time = 54708275\n",
    "distance = 239114212951253"
   ]
  },
  {
   "cell_type": "code",
   "execution_count": 37,
   "metadata": {},
   "outputs": [
    {
     "name": "stdout",
     "output_type": "stream",
     "text": [
      "45128024\n",
      "CPU times: user 4.92 s, sys: 67.8 ms, total: 4.99 s\n",
      "Wall time: 4.99 s\n"
     ]
    }
   ],
   "source": [
    "%%time\n",
    "\n",
    "n=0\n",
    "for x in range(time+1):\n",
    "    if x*(time-x) > distance:\n",
    "        n+=1\n",
    "print(n)"
   ]
  }
 ],
 "metadata": {
  "kernelspec": {
   "display_name": "Python 3",
   "language": "python",
   "name": "python3"
  },
  "language_info": {
   "codemirror_mode": {
    "name": "ipython",
    "version": 3
   },
   "file_extension": ".py",
   "mimetype": "text/x-python",
   "name": "python",
   "nbconvert_exporter": "python",
   "pygments_lexer": "ipython3",
   "version": "3.10.6"
  }
 },
 "nbformat": 4,
 "nbformat_minor": 2
}
