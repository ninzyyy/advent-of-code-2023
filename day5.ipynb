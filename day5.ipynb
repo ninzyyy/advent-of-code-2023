{
 "cells": [
  {
   "cell_type": "markdown",
   "metadata": {},
   "source": [
    "## Part One"
   ]
  },
  {
   "cell_type": "code",
   "execution_count": null,
   "metadata": {},
   "outputs": [],
   "source": [
    "with open('day5.txt') as file:\n",
    "    lines = [line.rstrip() for line in file]\n",
    "lines[:5]"
   ]
  },
  {
   "cell_type": "code",
   "execution_count": null,
   "metadata": {},
   "outputs": [],
   "source": [
    "example = [ 'seeds: 79 14 55 13',\n",
    "            '',\n",
    "            'seed-to-soil map:',\n",
    "            '50 98 2',\n",
    "            '52 50 48',\n",
    "            '',\n",
    "            'soil-to-fertilizer map:',\n",
    "            '0 15 37',\n",
    "            '37 52 2',\n",
    "            '39 0 15',\n",
    "            '',\n",
    "            'fertilizer-to-water map:',\n",
    "            '49 53 8',\n",
    "            '0 11 42',\n",
    "            '42 0 7',\n",
    "            '57 7 4',\n",
    "            '',\n",
    "            'water-to-light map:',\n",
    "            '88 18 7',\n",
    "            '18 25 70',\n",
    "            '',\n",
    "            'light-to-temperature map:',\n",
    "            '45 77 23',\n",
    "            '81 45 19',\n",
    "            '68 64 13',\n",
    "            '',\n",
    "            'temperature-to-humidity map:',\n",
    "            '0 69 1',\n",
    "            '1 0 69',\n",
    "            '',\n",
    "            'humidity-to-location map:',\n",
    "            '60 56 37',\n",
    "            '56 93 4',\n",
    "]"
   ]
  },
  {
   "cell_type": "code",
   "execution_count": null,
   "metadata": {},
   "outputs": [],
   "source": [
    "def seed_to_location(l):\n",
    "\n",
    "    def get_next_number(n, list):\n",
    "        for i in list:\n",
    "            i = i.split(' ')\n",
    "            if int(i[1]) <= int(n) <= int(i[1]) + int(i[2])-1:\n",
    "                    return int(i[0]) + (int(n) - int(i[1]))\n",
    "        return n\n",
    "\n",
    "    seeds = l[0].split(':')[1].strip().replace(' ', ',').split(',')\n",
    "    seed_to_soil = l[l.index('seed-to-soil map:')+1:l.index('soil-to-fertilizer map:')-1]\n",
    "    soil_to_fert = l[l.index('soil-to-fertilizer map:')+1:l.index('fertilizer-to-water map:')-1]\n",
    "    fert_to_water = l[l.index('fertilizer-to-water map:')+1:l.index('water-to-light map:')-1]\n",
    "    water_to_light = l[l.index('water-to-light map:')+1:l.index('light-to-temperature map:')-1]\n",
    "    light_to_temp = l[l.index('light-to-temperature map:')+1:l.index('temperature-to-humidity map:')-1]\n",
    "    temp_to_humid = l[l.index('temperature-to-humidity map:')+1:l.index('humidity-to-location map:')-1]\n",
    "    humid_to_location = l[l.index('humidity-to-location map:')+1:]\n",
    "\n",
    "    location = None\n",
    "\n",
    "    for seed in seeds:\n",
    "        seed = int(seed)\n",
    "\n",
    "        seed = get_next_number(seed, seed_to_soil)\n",
    "        seed = get_next_number(seed, soil_to_fert)\n",
    "        seed = get_next_number(seed, fert_to_water)\n",
    "        seed = get_next_number(seed, water_to_light)\n",
    "        seed = get_next_number(seed, light_to_temp)\n",
    "        seed = get_next_number(seed, temp_to_humid)\n",
    "        seed = get_next_number(seed, humid_to_location)\n",
    "\n",
    "        if location == None:\n",
    "            location = seed\n",
    "        elif location > seed:\n",
    "            location = seed\n",
    "\n",
    "    return location\n"
   ]
  },
  {
   "cell_type": "code",
   "execution_count": null,
   "metadata": {},
   "outputs": [],
   "source": [
    "%%time\n",
    "seed_to_location(example)"
   ]
  },
  {
   "cell_type": "code",
   "execution_count": null,
   "metadata": {},
   "outputs": [],
   "source": [
    "seed_to_location(lines)"
   ]
  },
  {
   "cell_type": "markdown",
   "metadata": {},
   "source": [
    "## Part Two"
   ]
  },
  {
   "cell_type": "code",
   "execution_count": null,
   "metadata": {},
   "outputs": [],
   "source": [
    "with open('day5.txt') as file:\n",
    "    lines = [line.rstrip() for line in file]\n",
    "lines[:5]"
   ]
  },
  {
   "cell_type": "code",
   "execution_count": null,
   "metadata": {},
   "outputs": [],
   "source": [
    "example = [ 'seeds: 79 14 55 13',\n",
    "            '',\n",
    "            'seed-to-soil map:',\n",
    "            '50 98 2',\n",
    "            '52 50 48',\n",
    "            '',\n",
    "            'soil-to-fertilizer map:',\n",
    "            '0 15 37',\n",
    "            '37 52 2',\n",
    "            '39 0 15',\n",
    "            '',\n",
    "            'fertilizer-to-water map:',\n",
    "            '49 53 8',\n",
    "            '0 11 42',\n",
    "            '42 0 7',\n",
    "            '57 7 4',\n",
    "            '',\n",
    "            'water-to-light map:',\n",
    "            '88 18 7',\n",
    "            '18 25 70',\n",
    "            '',\n",
    "            'light-to-temperature map:',\n",
    "            '45 77 23',\n",
    "            '81 45 19',\n",
    "            '68 64 13',\n",
    "            '',\n",
    "            'temperature-to-humidity map:',\n",
    "            '0 69 1',\n",
    "            '1 0 69',\n",
    "            '',\n",
    "            'humidity-to-location map:',\n",
    "            '60 56 37',\n",
    "            '56 93 4',\n",
    "]"
   ]
  },
  {
   "cell_type": "code",
   "execution_count": null,
   "metadata": {},
   "outputs": [],
   "source": [
    "def seed_to_location(l):\n",
    "\n",
    "    def get_next_number(n, list):\n",
    "        for i in list:\n",
    "            i = i.split(' ')\n",
    "            if int(i[1]) <= int(n) <= int(i[1]) + int(i[2])-1:\n",
    "                    return int(i[0]) + (int(n) - int(i[1]))\n",
    "        return n\n",
    "\n",
    "    seeds = l[0].split(':')[1].strip().replace(' ', ',').split(',')\n",
    "    seeds = [int(i) for i in seeds]\n",
    "\n",
    "    seeds2 = []\n",
    "    for i, k in zip(seeds[0::2], seeds[1::2]):\n",
    "        seeds2.append([i, k])\n",
    "\n",
    "    seeds = []\n",
    "    for seed in seeds2:\n",
    "        seeds.append(range(seed[0], seed[0] + seed[1] +1))\n",
    "\n",
    "\n",
    "    seed_to_soil = l[l.index('seed-to-soil map:')+1:l.index('soil-to-fertilizer map:')-1]\n",
    "    soil_to_fert = l[l.index('soil-to-fertilizer map:')+1:l.index('fertilizer-to-water map:')-1]\n",
    "    fert_to_water = l[l.index('fertilizer-to-water map:')+1:l.index('water-to-light map:')-1]\n",
    "    water_to_light = l[l.index('water-to-light map:')+1:l.index('light-to-temperature map:')-1]\n",
    "    light_to_temp = l[l.index('light-to-temperature map:')+1:l.index('temperature-to-humidity map:')-1]\n",
    "    temp_to_humid = l[l.index('temperature-to-humidity map:')+1:l.index('humidity-to-location map:')-1]\n",
    "    humid_to_location = l[l.index('humidity-to-location map:')+1:]\n",
    "\n",
    "    location = None\n",
    "\n",
    "    for seed_list in seeds:\n",
    "        print(seed_list)\n",
    "\n",
    "        for seed in seed_list:\n",
    "            print(seed)\n",
    "\n",
    "            seed = get_next_number(seed, seed_to_soil)\n",
    "            seed = get_next_number(seed, soil_to_fert)\n",
    "            seed = get_next_number(seed, fert_to_water)\n",
    "            seed = get_next_number(seed, water_to_light)\n",
    "            seed = get_next_number(seed, light_to_temp)\n",
    "            seed = get_next_number(seed, temp_to_humid)\n",
    "            seed = get_next_number(seed, humid_to_location)\n",
    "\n",
    "            if location == None:\n",
    "                location = seed\n",
    "            elif location > seed:\n",
    "                location = seed\n",
    "\n",
    "    return location\n"
   ]
  },
  {
   "cell_type": "code",
   "execution_count": null,
   "metadata": {},
   "outputs": [],
   "source": [
    "seed_to_location(example)"
   ]
  },
  {
   "cell_type": "code",
   "execution_count": null,
   "metadata": {},
   "outputs": [],
   "source": [
    "seed_to_location(lines)"
   ]
  },
  {
   "cell_type": "code",
   "execution_count": null,
   "metadata": {},
   "outputs": [],
   "source": []
  }
 ],
 "metadata": {
  "kernelspec": {
   "display_name": "Python 3",
   "language": "python",
   "name": "python3"
  },
  "language_info": {
   "codemirror_mode": {
    "name": "ipython",
    "version": 3
   },
   "file_extension": ".py",
   "mimetype": "text/x-python",
   "name": "python",
   "nbconvert_exporter": "python",
   "pygments_lexer": "ipython3",
   "version": "3.10.6"
  }
 },
 "nbformat": 4,
 "nbformat_minor": 2
}
